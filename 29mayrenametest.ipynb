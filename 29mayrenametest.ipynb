{
 "cells": [
  {
   "cell_type": "markdown",
   "id": "de3db0b3",
   "metadata": {},
   "source": [
    "***GENERATED CODE FOR 29mayrenametest PIPELINE.***"
   ]
  },
  {
   "cell_type": "markdown",
   "id": "d74bb6d2",
   "metadata": {},
   "source": [
    "***DON'T EDIT THIS CODE.***"
   ]
  },
  {
   "cell_type": "markdown",
   "id": "e6124862",
   "metadata": {},
   "source": [
    "***CONNECTOR FUNCTIONS TO READ DATA.***"
   ]
  },
  {
   "cell_type": "code",
   "execution_count": null,
   "id": "b8f98c05",
   "metadata": {},
   "outputs": [],
   "source": [
    "import os\n",
    "import datetime\n",
    "import logging\n",
    "import warnings\n",
    "warnings.filterwarnings('ignore')\n",
    "logging.basicConfig(format='%(levelname)s:%(message)s', level=logging.INFO)\n",
    "\n",
    "\n",
    "class HDFSConnector:\n",
    "\n",
    "    def fetch(spark, config):\n",
    "        ################### INPUT HADOOP HOST PORT TO CONNECT WITH ###############################\n",
    "        hdfs_server = str(os.environ['HDFS_SERVER'])\n",
    "        hdfs_port = int(os.environ['HDFS_PORT'])\n",
    "        df = spark.read.options(header='true', inferschema='true').csv(\n",
    "            f\"hdfs://{hdfs_server}:{hdfs_port}{eval(config)['url']}\", header='true')\n",
    "        display(df.limit(2).toPandas())\n",
    "        return df\n",
    "\n",
    "    def put(df, spark, config):\n",
    "        return df.write.format('csv').options(header='true' if eval(config)[\"is_header\"] == \"Use Header Line\" else 'false',\n",
    "                                              delimiter=eval(config)[\"delimiter\"]).save((\"%s %s\") % (datetime.datetime.now().strftime(\"%Y-%m-%d %H.%M.%S\")+\"_\", eval(config)['url']))\n"
   ]
  },
  {
   "cell_type": "markdown",
   "id": "5459cd9e",
   "metadata": {},
   "source": [
    "***OPERATION FUNCTIONS***"
   ]
  },
  {
   "cell_type": "code",
   "execution_count": null,
   "id": "f63206e3",
   "metadata": {},
   "outputs": [],
   "source": [
    "import pyspark\n",
    "from dask.dataframe import from_pandas\n",
    "import json\n",
    "\n",
    "\n",
    "def renameColumns(df, functionsData, applyOn):\n",
    "    for functionData in functionsData:\n",
    "        df = df.rename(\n",
    "            columns={functionData['oldName']: functionData['newName']})\n",
    "    return df\n",
    "\n",
    "\n",
    "def runDataCleansing(sparkDf, spark, config):\n",
    "    configObj = json.loads(config)\n",
    "    sparkDf.persist(pyspark.StorageLevel.MEMORY_AND_DISK)\n",
    "    df = from_pandas((sparkDf.toPandas()), npartitions=5)\n",
    "    functionList = configObj['functionsApplied']\n",
    "    Data_Cleansing_Methods = {\"replaceBy\": replaceValues,\n",
    "                              \"formula\": calculateFormula,\n",
    "                              \"aggregate\": aggregation,\n",
    "                              \"converttostringtype\": changeToString,\n",
    "                              \"editname\": renameColumns}\n",
    "    for function in functionList:\n",
    "        function['functionName']\n",
    "        df = Data_Cleansing_Methods[function['functionName']](df, function['functionsData'],\n",
    "                                                              function['applyOn'])\n",
    "    sparkDf = spark.createDataFrame(df.compute())\n",
    "\n",
    "    display(sparkDf.limit(2).toPandas())\n",
    "    return sparkDf\n"
   ]
  },
  {
   "cell_type": "markdown",
   "id": "c9ca2ec9",
   "metadata": {},
   "source": [
    "***CONNECTOR FUNCTIONS TO WRITE DATA.***"
   ]
  },
  {
   "cell_type": "code",
   "execution_count": null,
   "id": "86a6a1ff",
   "metadata": {},
   "outputs": [],
   "source": [
    "import datetime\n",
    "import requests\n",
    "import datetime\n",
    "import logging\n",
    "import warnings\n",
    "warnings.filterwarnings('ignore')\n",
    "logging.basicConfig(format='%(levelname)s:%(message)s', level=logging.INFO)\n",
    "\n",
    "\n",
    "class NumtraConnector:\n",
    "\n",
    "    def put(inStages, inStagesData, stageId, spark, config):\n",
    "        path = eval(config)['server_url']\n",
    "        baseType = eval(config)['baseType']\n",
    "        results_url = eval(config)['results_url']\n",
    "        server = eval(config)['server']\n",
    "        originalfile = eval(config)['orignalKey']\n",
    "        eval(config)['pathOnly']\n",
    "        filename = eval(config)['filename']\n",
    "        eval(config)['ser']\n",
    "        eval(config)['user']\n",
    "        eval(config)['password']\n",
    "        eval(config)['authSource']\n",
    "        eval(config)['user_id']\n",
    "        eval(config)['parent_id']\n",
    "        eval(config)['project_id']\n",
    "        time = str(int(datetime.datetime.now().timestamp()))\n",
    "\n",
    "        inStagesData[inStages[0]]\n",
    "\n",
    "        print(path)\n",
    "        print(baseType)\n",
    "        print(results_url)\n",
    "        print(server)\n",
    "        print(originalfile)\n",
    "        print(filename)\n",
    "\n",
    "        args = {\n",
    "            'url': path,\n",
    "            'baseType': baseType,\n",
    "            'originalfile': originalfile,\n",
    "            'filename': time + filename\n",
    "        }\n",
    "\n",
    "        response = requests.post(results_url, args)\n",
    "        return response\n"
   ]
  },
  {
   "cell_type": "markdown",
   "id": "44ad3cc6",
   "metadata": {},
   "source": [
    "***READING DATAFRAME***"
   ]
  },
  {
   "cell_type": "code",
   "execution_count": null,
   "id": "30c403d5",
   "metadata": {},
   "outputs": [],
   "source": [
    "############## CREATE SPARK SESSION ############################ ENTER YOUR SPARK MASTER IP AND PORT TO CONNECT TO SERVER ################\n",
    "from pyspark.sql import SparkSession\n",
    "spark = SparkSession.builder.master('local[1]').getOrCreate()\n",
    "#%run 29mayrenametestHooks.ipynb\n",
    "try:\n",
    "\t#sourcePreExecutionHook()\n",
    "\n",
    "\theartfailurefuturepmjs = HDFSConnector.fetch(spark, \"{'url': '/FileStore/platform/testdata/1714041767805_HeartFailureFuture.csv', 'filename': 'HeartFailureFuture.csv', 'delimiter': ',', 'file_type': 'Delimeted', 'dbfs_token': '', 'dbfs_domain': '', 'FilePath': '/OperatorsTest/HeartFailureFuture.csv', 'viewFileName': 'HeartFailureFuture.csv', 'is_header': 'Use Header Line', 'baseType': 'hdfs', 'server_url': '/nexusMax/NexusMaxPlatform/uploads/platform/', 'results_url': 'http://dnm.bfirst.ai:44040/api/read/hdfs'}\")\n",
    "\n",
    "except Exception as ex: \n",
    "\tlogging.error(ex)\n",
    "#spark.stop()\n"
   ]
  },
  {
   "cell_type": "markdown",
   "id": "be6757f7",
   "metadata": {},
   "source": [
    "***PERFORMING OPERATIONS***"
   ]
  },
  {
   "cell_type": "code",
   "execution_count": null,
   "id": "0d6c90a7",
   "metadata": {},
   "outputs": [],
   "source": [
    "#%run 29mayrenametestHooks.ipynb\n",
    "try:\n",
    "\t#operationPreExecutionHook()\n",
    "\n",
    "datapreparation = runDataCleansing(heartfailurefuturepmjs,spark,json.dumps( {\"url\": \"/FileStore/platform/testdata/1714041767805_HeartFailureFuture.csv\", \"source_attributes\": {}, \"DataPrepFile\": \"/FileStore/platform/testdata/1714041767805_HeartFailureFuture.csv\", \"data_source\": \"platfiles\", \"startListenerOnly\": 1, \"dateColumnNames\": [], \"FilePath\": \"/FileStore/platform/extra/66571c127bda2cdf975e24631716985049/0part.csv\", \"requestRatio\": 0.0, \"totalRows\": 61, \"BasicStats\": {\"missingValues\": 0.0, \"numberOfColumns\": 13, \"numberOfRows\": 61, \"duplicateRowCount\": 0, \"stats\": [{\"column\": \"age\", \"alias\": \"age\", \"generated\": 0, \"type\": \"numeric\", \"max\": 90.0, \"min\": 40.0, \"mean\": 56.49180327868852, \"missing\": 0.0, \"stddev\": 10.09, \"outliers\": [90], \"validation\": []}, {\"column\": \"anaemia\", \"alias\": \"anaemia\", \"generated\": 0, \"type\": \"numeric\", \"max\": 1.0, \"min\": 0.0, \"mean\": 0.29508196721311475, \"missing\": 0.0, \"stddev\": 0.46, \"outliers\": [], \"validation\": []}, {\"column\": \"creatinine_phosphokinase\", \"alias\": \"creatinine_phosphokinase\", \"generated\": 0, \"type\": \"numeric\", \"max\": 2695.0, \"min\": 54.0, \"mean\": 579.655737704918, \"missing\": 0.0, \"stddev\": 653.16, \"outliers\": [2017, 2522, 2695, 1688, 1820, 2060, 2413], \"validation\": []}, {\"column\": \"diabetes\", \"alias\": \"diabetes\", \"generated\": 0, \"type\": \"numeric\", \"max\": 1.0, \"min\": 0.0, \"mean\": 0.5245901639344263, \"missing\": 0.0, \"stddev\": 0.5, \"outliers\": [], \"validation\": []}, {\"column\": \"ejection_fraction\", \"alias\": \"ejection_fraction\", \"generated\": 0, \"type\": \"numeric\", \"max\": 60.0, \"min\": 20.0, \"mean\": 37.885245901639344, \"missing\": 0.0, \"stddev\": 8.08, \"outliers\": [25, 25, 60, 25, 50, 25, 60, 20, 55, 55, 60], \"validation\": []}, {\"column\": \"high_blood_pressure\", \"alias\": \"high_blood_pressure\", \"generated\": 0, \"type\": \"numeric\", \"max\": 1.0, \"min\": 0.0, \"mean\": 0.18032786885245902, \"missing\": 0.0, \"stddev\": 0.39, \"outliers\": [1, 1, 1, 1, 1, 1, 1, 1, 1, 1, 1], \"validation\": []}, {\"column\": \"platelets\", \"alias\": \"platelets\", \"generated\": 0, \"type\": \"real\", \"max\": 742000.0, \"min\": 25100.0, \"mean\": 271036.8554098361, \"missing\": 0.0, \"stddev\": 113210.06, \"outliers\": [533000.0, 422000.0, 25100.0, 451000.0, 51000.0, 543000.0, 742000.0], \"validation\": []}, {\"column\": \"serum_creatinine\", \"alias\": \"serum_creatinine\", \"generated\": 0, \"type\": \"real\", \"max\": 3.8, \"min\": 0.5, \"mean\": 1.1952459016393442, \"missing\": 0.0, \"stddev\": 0.52, \"outliers\": [2.4, 1.83, 2.7, 3.8], \"validation\": []}, {\"column\": \"serum_sodium\", \"alias\": \"serum_sodium\", \"generated\": 0, \"type\": \"numeric\", \"max\": 144.0, \"min\": 128.0, \"mean\": 137.27868852459017, \"missing\": 0.0, \"stddev\": 3.67, \"outliers\": [128], \"validation\": []}, {\"column\": \"sex\", \"alias\": \"sex\", \"generated\": 0, \"type\": \"numeric\", \"max\": 1.0, \"min\": 0.0, \"mean\": 0.6229508196721312, \"missing\": 0.0, \"stddev\": 0.49, \"outliers\": [], \"validation\": []}, {\"column\": \"smoking\", \"alias\": \"smoking\", \"generated\": 0, \"type\": \"numeric\", \"max\": 1.0, \"min\": 0.0, \"mean\": 0.29508196721311475, \"missing\": 0.0, \"stddev\": 0.46, \"outliers\": [], \"validation\": []}, {\"column\": \"time\", \"alias\": \"time\", \"generated\": 0, \"type\": \"numeric\", \"max\": 285.0, \"min\": 210.0, \"mean\": 238.1639344262295, \"missing\": 0.0, \"stddev\": 19.87, \"outliers\": [], \"validation\": []}, {\"column\": \"Anaemia1\", \"alias\": \"Anaemia1\", \"generated\": 1, \"type\": \"numeric\", \"max\": 1.0, \"min\": 0.0, \"mean\": 0.29508196721311475, \"missing\": 0.0, \"stddev\": 0.46, \"outliers\": [], \"validation\": []}]}, \"predictionPowerScore\": [{\"Anaemia1\": 1.0, \"age\": 0.0, \"anaemia\": 1.0, \"creatinine_phosphokinase\": 0.0, \"diabetes\": 0.0, \"ejection_fraction\": 0.0, \"high_blood_pressure\": 0.0, \"platelets\": 0.0, \"serum_creatinine\": 0.0, \"serum_sodium\": 0.0, \"sex\": 0.0, \"smoking\": 0.0, \"time\": 0.0}, {\"Anaemia1\": 0.0, \"age\": 1.0, \"anaemia\": 0.0, \"creatinine_phosphokinase\": 0.0, \"diabetes\": 0.0, \"ejection_fraction\": 0.0, \"high_blood_pressure\": 0.0, \"platelets\": 0.0, \"serum_creatinine\": 0.0, \"serum_sodium\": 0.0, \"sex\": 0.0, \"smoking\": 0.0, \"time\": 0.0}, {\"Anaemia1\": 1.0, \"age\": 0.0, \"anaemia\": 1.0, \"creatinine_phosphokinase\": 0.0, \"diabetes\": 0.0, \"ejection_fraction\": 0.0, \"high_blood_pressure\": 0.0, \"platelets\": 0.0, \"serum_creatinine\": 0.0, \"serum_sodium\": 0.0, \"sex\": 0.0, \"smoking\": 0.0, \"time\": 0.0}, {\"Anaemia1\": 0.0, \"age\": 0.0, \"anaemia\": 0.0, \"creatinine_phosphokinase\": 1.0, \"diabetes\": 0.0, \"ejection_fraction\": 0.0, \"high_blood_pressure\": 0.0, \"platelets\": 0.0, \"serum_creatinine\": 0.0, \"serum_sodium\": 0.0, \"sex\": 0.0, \"smoking\": 0.0, \"time\": 0.0}, {\"Anaemia1\": 0.0, \"age\": 0.0, \"anaemia\": 0.0, \"creatinine_phosphokinase\": 0.1923009031, \"diabetes\": 1.0, \"ejection_fraction\": 0.0, \"high_blood_pressure\": 0.0, \"platelets\": 0.0722916667, \"serum_creatinine\": 0.0, \"serum_sodium\": 0.0, \"sex\": 0.0, \"smoking\": 0.0, \"time\": 0.0}, {\"Anaemia1\": 0.0, \"age\": 0.0, \"anaemia\": 0.0, \"creatinine_phosphokinase\": 0.0, \"diabetes\": 0.0, \"ejection_fraction\": 1.0, \"high_blood_pressure\": 0.0, \"platelets\": 0.0, \"serum_creatinine\": 0.0, \"serum_sodium\": 0.0, \"sex\": 0.0, \"smoking\": 0.0, \"time\": 0.0}, {\"Anaemia1\": 0.0, \"age\": 0.0, \"anaemia\": 0.0, \"creatinine_phosphokinase\": 0.0, \"diabetes\": 0.0, \"ejection_fraction\": 0.0, \"high_blood_pressure\": 1.0, \"platelets\": 0.0, \"serum_creatinine\": 0.0, \"serum_sodium\": 0.0, \"sex\": 0.0, \"smoking\": 0.0, \"time\": 0.0}, {\"Anaemia1\": 0.0, \"age\": 0.0, \"anaemia\": 0.0, \"creatinine_phosphokinase\": 0.0, \"diabetes\": 0.0, \"ejection_fraction\": 0.0, \"high_blood_pressure\": 0.0, \"platelets\": 1.0, \"serum_creatinine\": 0.0, \"serum_sodium\": 0.0, \"sex\": 0.0, \"smoking\": 0.0, \"time\": 0.0}, {\"Anaemia1\": 0.0, \"age\": 0.0, \"anaemia\": 0.0, \"creatinine_phosphokinase\": 0.0, \"diabetes\": 0.0, \"ejection_fraction\": 0.0, \"high_blood_pressure\": 0.0, \"platelets\": 0.0, \"serum_creatinine\": 1.0, \"serum_sodium\": 0.0, \"sex\": 0.0, \"smoking\": 0.0, \"time\": 0.0}, {\"Anaemia1\": 0.0, \"age\": 0.0, \"anaemia\": 0.0, \"creatinine_phosphokinase\": 0.0, \"diabetes\": 8.72319e-05, \"ejection_fraction\": 0.0, \"high_blood_pressure\": 0.0, \"platelets\": 0.0, \"serum_creatinine\": 0.0, \"serum_sodium\": 1.0, \"sex\": 0.0, \"smoking\": 0.0, \"time\": 0.0}, {\"Anaemia1\": 0.0, \"age\": 0.0, \"anaemia\": 0.0, \"creatinine_phosphokinase\": 0.0, \"diabetes\": 0.0, \"ejection_fraction\": 0.0, \"high_blood_pressure\": 0.0, \"platelets\": 0.0, \"serum_creatinine\": 0.0, \"serum_sodium\": 0.0, \"sex\": 1.0, \"smoking\": 0.036023482, \"time\": 0.0}, {\"Anaemia1\": 0.0, \"age\": 0.0, \"anaemia\": 0.0, \"creatinine_phosphokinase\": 0.0, \"diabetes\": 0.0, \"ejection_fraction\": 0.0, \"high_blood_pressure\": 0.0, \"platelets\": 0.0, \"serum_creatinine\": 0.0, \"serum_sodium\": 0.0, \"sex\": 0.0, \"smoking\": 1.0, \"time\": 0.0}, {\"Anaemia1\": 0.0, \"age\": 0.0, \"anaemia\": 0.0, \"creatinine_phosphokinase\": 0.0, \"diabetes\": 0.0, \"ejection_fraction\": 0.0, \"high_blood_pressure\": 0.0401975954, \"platelets\": 0.0, \"serum_creatinine\": 0.0, \"serum_sodium\": 0.0, \"sex\": 0.0, \"smoking\": 0.0, \"time\": 1.0}], \"HasBasicStats\": 1, \"functionsApplied\": [{\"functionName\": \"editname\", \"applyOn\": [[{\"columnName\": \"Anaemia1\", \"type\": \"numeric\", \"min\": \"0.0\", \"max\": \"1.0\", \"mean\": \"0.3\"}]], \"functionsData\": [{\"oldName\": \"anaemia\", \"newName\": \"Anaemia1\", \"asNewColumn\": 1, \"column\": [{\"columnName\": \"anaemia\", \"type\": \"numeric\", \"min\": \"0.0\", \"max\": \"1.0\", \"mean\": \"0.3\"}]}]}], \"functionChanges\": [{\"columnName\": \"Anaemia1\", \"functionName\": \"Edit Column Name\", \"Type\": \"numeric\", \"Parameters\": [{\"oldName\": \"anaemia\", \"newName\": \"Anaemia1\", \"asNewColumn\": 1, \"column\": [{\"columnName\": \"anaemia\", \"type\": \"numeric\", \"min\": \"0.0\", \"max\": \"1.0\", \"mean\": \"0.3\"}]}]}], \"fileheader\": [{\"field\": \"age\", \"alias\": \"age\", \"generated\": 0, \"position\": 1, \"type\": \"numeric\"}, {\"field\": \"anaemia\", \"alias\": \"anaemia\", \"generated\": 0, \"position\": 2, \"type\": \"numeric\"}, {\"field\": \"creatinine_phosphokinase\", \"alias\": \"creatinine_phosphokinase\", \"generated\": 0, \"position\": 3, \"type\": \"numeric\"}, {\"field\": \"diabetes\", \"alias\": \"diabetes\", \"generated\": 0, \"position\": 4, \"type\": \"numeric\"}, {\"field\": \"ejection_fraction\", \"alias\": \"ejection_fraction\", \"generated\": 0, \"position\": 5, \"type\": \"numeric\"}, {\"field\": \"high_blood_pressure\", \"alias\": \"high_blood_pressure\", \"generated\": 0, \"position\": 6, \"type\": \"numeric\"}, {\"field\": \"platelets\", \"alias\": \"platelets\", \"generated\": 0, \"position\": 7, \"type\": \"real\"}, {\"field\": \"serum_creatinine\", \"alias\": \"serum_creatinine\", \"generated\": 0, \"position\": 8, \"type\": \"real\"}, {\"field\": \"serum_sodium\", \"alias\": \"serum_sodium\", \"generated\": 0, \"position\": 9, \"type\": \"numeric\"}, {\"field\": \"sex\", \"alias\": \"sex\", \"generated\": 0, \"position\": 10, \"type\": \"numeric\"}, {\"field\": \"smoking\", \"alias\": \"smoking\", \"generated\": 0, \"position\": 11, \"type\": \"numeric\"}, {\"field\": \"time\", \"alias\": \"time\", \"generated\": 0, \"position\": 12, \"type\": \"numeric\"}, {\"field\": \"Anaemia1\", \"alias\": \"Anaemia1\", \"generated\": 1, \"position\": 13, \"type\": \"numeric\"}]}))\n",
    "\t#operationPostExecutionHook(datapreparation)\n",
    "\n",
    "except Exception as ex: \n",
    "\tlogging.error(ex)\n"
   ]
  },
  {
   "cell_type": "markdown",
   "id": "a2f021d4",
   "metadata": {},
   "source": [
    "***WRITING DATAFRAME***"
   ]
  },
  {
   "cell_type": "code",
   "execution_count": null,
   "id": "1d7d5327",
   "metadata": {},
   "outputs": [],
   "source": [
    "#%run 29mayrenametestHooks.ipynb\n",
    "try:\n",
    "\t#sinkPreExecutionHook()\n",
    "\n",
    "\tdatapipelinetestoutput = NumtraConnector.fetch(spark, \"{'samplefile': '/FileStore/platform/sampleData/66571c0e7bda2cdf975e245f/part-00000-419fe822-4dca-4485-9edf-3e35a2919b03-c000.csv', 'samplecount': 61, 'originalcount': 61, 'orignalKey': '/FileStore/platform/testdata/1714041767805_HeartFailureFuture.csv', 'pathOnly': '/DataPipelineTest', 'project_id': '65d6eaa27ff4e119ca47d614', 'parent_id': '65d6eaa27ff4e119ca47d614', 'original_schema': [{'checked': True, 'inherited': True, 'is_categorical': False, 'bad_values': '', 'nullable': 'true', 'field': 'age', 'alias': 'age', 'type': 'numeric', 'position': '0'}, {'checked': True, 'inherited': True, 'is_categorical': False, 'bad_values': '', 'nullable': 'true', 'field': 'creatinine_phosphokinase', 'alias': 'creatinine_phosphokinase', 'type': 'numeric', 'position': '1'}, {'checked': True, 'inherited': True, 'is_categorical': False, 'bad_values': '', 'nullable': 'true', 'field': 'diabetes', 'alias': 'diabetes', 'type': 'numeric', 'position': '2'}, {'checked': True, 'inherited': True, 'is_categorical': False, 'bad_values': '', 'nullable': 'true', 'field': 'ejection_fraction', 'alias': 'ejection_fraction', 'type': 'numeric', 'position': '3'}, {'checked': True, 'inherited': True, 'is_categorical': False, 'bad_values': '', 'nullable': 'true', 'field': 'high_blood_pressure', 'alias': 'high_blood_pressure', 'type': 'numeric', 'position': '4'}, {'checked': True, 'inherited': True, 'is_categorical': False, 'bad_values': '', 'nullable': 'true', 'field': 'platelets', 'alias': 'platelets', 'type': 'real', 'position': '5'}, {'checked': True, 'inherited': True, 'is_categorical': False, 'bad_values': '', 'nullable': 'true', 'field': 'serum_creatinine', 'alias': 'serum_creatinine', 'type': 'real', 'position': '6'}, {'checked': True, 'inherited': True, 'is_categorical': False, 'bad_values': '', 'nullable': 'true', 'field': 'serum_sodium', 'alias': 'serum_sodium', 'type': 'numeric', 'position': '7'}, {'checked': True, 'inherited': True, 'is_categorical': False, 'bad_values': '', 'nullable': 'true', 'field': 'sex', 'alias': 'sex', 'type': 'numeric', 'position': '8'}, {'checked': True, 'inherited': True, 'is_categorical': False, 'bad_values': '', 'nullable': 'true', 'field': 'smoking', 'alias': 'smoking', 'type': 'numeric', 'position': '9'}, {'checked': True, 'inherited': True, 'is_categorical': False, 'bad_values': '', 'nullable': 'true', 'field': 'time', 'alias': 'time', 'type': 'numeric', 'position': '10'}, {'checked': True, 'inherited': True, 'is_categorical': False, 'bad_values': '', 'nullable': 'true', 'field': 'Anaemia1', 'alias': 'Anaemia1', 'type': 'numeric', 'position': '11'}], 'actual_schema': [{'checked': True, 'inherited': True, 'is_categorical': False, 'bad_values': '', 'nullable': 'true', 'field': 'age', 'alias': 'age', 'type': 'numeric', 'position': '0'}, {'checked': True, 'inherited': True, 'is_categorical': False, 'bad_values': '', 'nullable': 'true', 'field': 'anaemia', 'alias': 'anaemia', 'type': 'numeric', 'position': '1'}, {'checked': True, 'inherited': True, 'is_categorical': False, 'bad_values': '', 'nullable': 'true', 'field': 'creatinine_phosphokinase', 'alias': 'creatinine_phosphokinase', 'type': 'numeric', 'position': '2'}, {'checked': True, 'inherited': True, 'is_categorical': False, 'bad_values': '', 'nullable': 'true', 'field': 'diabetes', 'alias': 'diabetes', 'type': 'numeric', 'position': '3'}, {'checked': True, 'inherited': True, 'is_categorical': False, 'bad_values': '', 'nullable': 'true', 'field': 'ejection_fraction', 'alias': 'ejection_fraction', 'type': 'numeric', 'position': '4'}, {'checked': True, 'inherited': True, 'is_categorical': False, 'bad_values': '', 'nullable': 'true', 'field': 'high_blood_pressure', 'alias': 'high_blood_pressure', 'type': 'numeric', 'position': '5'}, {'checked': True, 'inherited': True, 'is_categorical': False, 'bad_values': '', 'nullable': 'true', 'field': 'platelets', 'alias': 'platelets', 'type': 'real', 'position': '6'}, {'checked': True, 'inherited': True, 'is_categorical': False, 'bad_values': '', 'nullable': 'true', 'field': 'serum_creatinine', 'alias': 'serum_creatinine', 'type': 'real', 'position': '7'}, {'checked': True, 'inherited': True, 'is_categorical': False, 'bad_values': '', 'nullable': 'true', 'field': 'serum_sodium', 'alias': 'serum_sodium', 'type': 'numeric', 'position': '8'}, {'checked': True, 'inherited': True, 'is_categorical': False, 'bad_values': '', 'nullable': 'true', 'field': 'sex', 'alias': 'sex', 'type': 'numeric', 'position': '9'}, {'checked': True, 'inherited': True, 'is_categorical': False, 'bad_values': '', 'nullable': 'true', 'field': 'smoking', 'alias': 'smoking', 'type': 'numeric', 'position': '10'}, {'checked': True, 'inherited': True, 'is_categorical': False, 'bad_values': '', 'nullable': 'true', 'field': 'time', 'alias': 'time', 'type': 'numeric', 'position': '11'}], 'server': 'https://dnm.bfirst.ai:443', 'server_url': '/nexusMax/NexusMaxPlatform/uploads/platform/', 'delimiter': ',', 'file_type': 'Delimeted', 'filename': 'HFRenamed1.csv', 'token': '', 'domain': '', 'is_header': 'Use Header Line', 'url': '/FileStore/platform/uploadedSourceFiles/part-00000-df187f90-77fe-4e11-b374-5751f022a8dd-c000.csv', 'results_url': 'http://dnm.bfirst.ai:44040/api/read/hdfs'}\")\n",
    "\n",
    "except Exception as ex: \n",
    "\tlogging.error(ex)\n"
   ]
  }
 ],
 "metadata": {},
 "nbformat": 4,
 "nbformat_minor": 5
}
